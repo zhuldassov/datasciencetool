{
 "cells": [
  {
   "cell_type": "markdown",
   "id": "cd01d961-9573-4091-90a1-4612b01f40f4",
   "metadata": {},
   "source": [
    "# Data Science Tools and Ecosystem"
   ]
  },
  {
   "cell_type": "markdown",
   "id": "693412a8-4604-441d-b360-3ae5d95433a8",
   "metadata": {},
   "source": [
    "In this notebook, Data Science Tools and Ecosystem are summarized."
   ]
  },
  {
   "cell_type": "markdown",
   "id": "1bd0db36-5e75-4eab-84bd-2893acb530eb",
   "metadata": {
    "tags": []
   },
   "source": [
    "**Objectives:**\n",
    "- List popular languages for Data Science\n",
    "- List data science languages\n",
    "- List Data Science tools\n",
    "- Perform arithmetic expression in Python\n"
   ]
  },
  {
   "cell_type": "markdown",
   "id": "c1ae1429-3fe9-4f09-9756-1b4dc4a69b11",
   "metadata": {},
   "source": [
    "Some of the popular languages that Data Scientists use are:\n",
    "1. Python\n",
    "2. R\n",
    "3. SQL\n",
    "4. Julia\n",
    "5. JavaSome of the commonly used libraries used by Data Scientists include:\n",
    "6. Scala"
   ]
  },
  {
   "cell_type": "markdown",
   "id": "75827370-6b2a-4751-8380-f6d4a979e728",
   "metadata": {},
   "source": [
    "Some of the commonly used libraries used by Data Scientists include:\n",
    "1. TensorFlow\n",
    "2. SciPy\n",
    "3. Keras\n",
    "4. Pytorch\n",
    "5. Matplotlib"
   ]
  },
  {
   "cell_type": "markdown",
   "id": "a71cb593-e3f6-41f8-bbab-62f73c3a2c4a",
   "metadata": {
    "tags": []
   },
   "source": [
    "| Data Science Tools |\n",
    "| -------|\n",
    "| Jupyter| \n",
    "| R studio|\n",
    "| Spyder |"
   ]
  },
  {
   "cell_type": "markdown",
   "id": "e43d1a1c-69cc-4c5d-a744-12ae6c830ad9",
   "metadata": {},
   "source": [
    "### Below are a few examples of evaluating arithmetic expressions in Python"
   ]
  },
  {
   "cell_type": "code",
   "execution_count": 3,
   "id": "e803bce9-461e-4911-8da9-74cc0821c43f",
   "metadata": {
    "tags": []
   },
   "outputs": [
    {
     "data": {
      "text/plain": [
       "17"
      ]
     },
     "execution_count": 3,
     "metadata": {},
     "output_type": "execute_result"
    }
   ],
   "source": [
    "#This a simple arithmetic expression to mutiply then add integers\n",
    "(3*4)+5"
   ]
  },
  {
   "cell_type": "code",
   "execution_count": 4,
   "id": "9f64bfd1-e1ce-40e0-a475-767a6f583d92",
   "metadata": {
    "tags": []
   },
   "outputs": [
    {
     "data": {
      "text/plain": [
       "3.3333333333333335"
      ]
     },
     "execution_count": 4,
     "metadata": {},
     "output_type": "execute_result"
    }
   ],
   "source": [
    "#This will convert 200 minutes to hours by diving by 60\n",
    "200/60"
   ]
  },
  {
   "cell_type": "markdown",
   "id": "bdd39f55-bffb-454c-a6b1-3e46a9eb7091",
   "metadata": {
    "tags": []
   },
   "source": [
    "## Author\n",
    "Abat"
   ]
  }
 ],
 "metadata": {
  "kernelspec": {
   "display_name": "Python 3 (ipykernel)",
   "language": "python",
   "name": "python3"
  },
  "language_info": {
   "codemirror_mode": {
    "name": "ipython",
    "version": 3
   },
   "file_extension": ".py",
   "mimetype": "text/x-python",
   "name": "python",
   "nbconvert_exporter": "python",
   "pygments_lexer": "ipython3",
   "version": "3.11.3"
  }
 },
 "nbformat": 4,
 "nbformat_minor": 5
}
